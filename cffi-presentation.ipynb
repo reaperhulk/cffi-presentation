{
 "cells": [
  {
   "cell_type": "markdown",
   "metadata": {
    "slideshow": {
     "slide_type": "slide"
    }
   },
   "source": [
    "# Crashing Python (but FASTER!)"
   ]
  },
  {
   "cell_type": "markdown",
   "metadata": {
    "slideshow": {
     "slide_type": "fragment"
    }
   },
   "source": [
    "Or, how I learned to stop worrying and love foreign function interfaces."
   ]
  },
  {
   "cell_type": "markdown",
   "metadata": {
    "slideshow": {
     "slide_type": "slide"
    }
   },
   "source": [
    "## Who"
   ]
  },
  {
   "cell_type": "markdown",
   "metadata": {
    "slideshow": {
     "slide_type": "fragment"
    }
   },
   "source": [
    "Paul Kehrer - just some guy who makes bad life choices"
   ]
  },
  {
   "cell_type": "markdown",
   "metadata": {
    "slideshow": {
     "slide_type": "slide"
    }
   },
   "source": [
    "## What"
   ]
  },
  {
   "cell_type": "markdown",
   "metadata": {
    "slideshow": {
     "slide_type": "fragment"
    }
   },
   "source": [
    "A brief demo of cffi, a tool for invoking code using the C calling convention from Python..."
   ]
  },
  {
   "cell_type": "markdown",
   "metadata": {
    "slideshow": {
     "slide_type": "subslide"
    }
   },
   "source": [
    "...and __PyPy__, which you should *really* be using."
   ]
  },
  {
   "cell_type": "markdown",
   "metadata": {
    "slideshow": {
     "slide_type": "slide"
    }
   },
   "source": [
    "## Why"
   ]
  },
  {
   "cell_type": "markdown",
   "metadata": {
    "slideshow": {
     "slide_type": "fragment"
    }
   },
   "source": [
    "Sometimes you want to..."
   ]
  },
  {
   "cell_type": "markdown",
   "metadata": {
    "slideshow": {
     "slide_type": "fragment"
    }
   },
   "source": [
    "* leverage the vast body of existing C code out there.\n",
    "* do something Python is bad at for a variety of reasons (cryptography!)\n",
    "* wring every last drop of performance out of a specific task"
   ]
  },
  {
   "cell_type": "markdown",
   "metadata": {
    "slideshow": {
     "slide_type": "subslide"
    }
   },
   "source": [
    "...and sometimes you just want to watch Python burn."
   ]
  },
  {
   "cell_type": "markdown",
   "metadata": {
    "slideshow": {
     "slide_type": "slide"
    }
   },
   "source": [
    "####Disclaimer\n",
    "\n",
    "Apologies in advance for the verbosity of these slides. The presentation setup here prevents presenter's notes and I have the memory of a goldfish, so you're gonna see some text. (If it's in parentheses those sentences are not for you! Quit reading this part.)\n",
    "\n",
    "Also, please ask questions. Stop me at any time."
   ]
  },
  {
   "cell_type": "markdown",
   "metadata": {
    "slideshow": {
     "slide_type": "slide"
    }
   },
   "source": [
    "## In the beginning\n",
    "\n",
    "In the before time, in the long long ago, there was CPython, and it was good. When you wanted to call some C you got out your abacus and protractor and, after a few years of effort, got this."
   ]
  },
  {
   "cell_type": "markdown",
   "metadata": {
    "slideshow": {
     "slide_type": "subslide"
    }
   },
   "source": [
    "```c\n",
    "static PyObject *\n",
    "ALG_getattro(PyObject *self, PyObject *attr)\n",
    "{\n",
    "\tif (!PyString_Check(attr))\n",
    "\t\tgoto generic;\n",
    "\n",
    "\tif (PyString_CompareWithASCIIString(attr, \"digest_size\")==0)\n",
    "\t\treturn PyInt_FromLong(DIGEST_SIZE);\n",
    "\tif (PyString_CompareWithASCIIString(attr, \"name\")==0)\n",
    "\t\treturn PyString_FromString(_MODULE_STRING);     /* we should try to be compatible with hashlib here */\n",
    "\n",
    "  generic:\n",
    "#if PYTHON_API_VERSION >= 1011          /* Python 2.2 and later */\n",
    "\treturn PyObject_GenericGetAttr(self, attr);\n",
    "#else\n",
    "\tif (PyString_Check(attr) < 0) {\n",
    "\t\tPyErr_SetObject(PyExc_AttributeError, attr);\n",
    "\t\treturn NULL;\n",
    "\t}\n",
    "\treturn Py_FindMethod(ALG_methods, (PyObject *)self, PyString_AsString(attr));\n",
    "#endif\n",
    "}\n",
    "```\n",
    "(Code on loan from the British Museum)"
   ]
  },
  {
   "cell_type": "markdown",
   "metadata": {
    "slideshow": {
     "slide_type": "slide"
    }
   },
   "source": [
    "After several centuries of this the world's brightest minds decided they could do better (as well as potentially support alternate runtimes), and so they did\n",
    "\n",
    "* SWIG (created ~1346 AD; also responsible for the bubonic plague)\n",
    "* ctypes (created in 1839 concurrently with the daguerreotype)\n",
    "\n",
    "These provided a variety of conveniences, but lacked a certain je ne sais quoi (that's French for they still sucked)."
   ]
  },
  {
   "cell_type": "markdown",
   "metadata": {
    "slideshow": {
     "slide_type": "fragment"
    }
   },
   "source": [
    "There's also Cython, but it isn't really meant for the same purpose so we're going to pretend it doesn't exist."
   ]
  },
  {
   "cell_type": "markdown",
   "metadata": {
    "slideshow": {
     "slide_type": "slide"
    }
   },
   "source": [
    "### cffi - a new challenger has entered the ring!"
   ]
  },
  {
   "cell_type": "markdown",
   "metadata": {
    "slideshow": {
     "slide_type": "fragment"
    }
   },
   "source": [
    "Pretend I knew how to insert a Street Fighter II image here."
   ]
  },
  {
   "cell_type": "markdown",
   "metadata": {
    "slideshow": {
     "slide_type": "fragment"
    }
   },
   "source": [
    "I clearly didn't, but this is my presentation so we're operating in my reality. (Wait for knowing nods.)"
   ]
  },
  {
   "cell_type": "markdown",
   "metadata": {
    "slideshow": {
     "slide_type": "slide"
    }
   },
   "source": [
    "Oh right, the presentation! Where was I?"
   ]
  },
  {
   "cell_type": "code",
   "execution_count": 2,
   "metadata": {
    "collapsed": true,
    "slideshow": {
     "slide_type": "fragment"
    }
   },
   "outputs": [],
   "source": [
    "import cffi"
   ]
  },
  {
   "cell_type": "markdown",
   "metadata": {
    "slideshow": {
     "slide_type": "fragment"
    }
   },
   "source": [
    "That little import carries some immense power. Let's do something simple with it. First, get an ffi instance."
   ]
  },
  {
   "cell_type": "code",
   "execution_count": 2,
   "metadata": {
    "collapsed": false,
    "slideshow": {
     "slide_type": "fragment"
    }
   },
   "outputs": [],
   "source": [
    "ffi = cffi.FFI()"
   ]
  },
  {
   "cell_type": "markdown",
   "metadata": {
    "slideshow": {
     "slide_type": "fragment"
    }
   },
   "source": [
    "The ffi object has a few functions we care about:\n",
    "\n",
    "* ```cdef``` -- This lets us define types and function signatures\n",
    "* ```dlopen``` -- This lets us open a precompiled library and use the functions we defined via ```cdef```\n",
    "* ```verify``` -- This lets us write our own C code to call libraries, write new functions, et cetera.\n",
    "* ```new``` -- Create any type the ffi object knows about. This can be C builtins or types from ```cdef```\n",
    "* ```gc``` -- Registers an object for garbage collection. This means when it goes out of scope the function provided will be called."
   ]
  },
  {
   "cell_type": "markdown",
   "metadata": {
    "slideshow": {
     "slide_type": "subslide"
    }
   },
   "source": [
    "With that out of the way let's define a function we want to be available. ```sprintf``` is both dangerous and easily bound so obviously we should use that. C people can't resist danger's siren song."
   ]
  },
  {
   "cell_type": "code",
   "execution_count": 3,
   "metadata": {
    "collapsed": true,
    "slideshow": {
     "slide_type": "fragment"
    }
   },
   "outputs": [],
   "source": [
    "ffi.cdef(\"int sprintf(char *, const char *, ...);\")\n",
    "lib = ffi.dlopen(None)"
   ]
  },
  {
   "cell_type": "markdown",
   "metadata": {
    "slideshow": {
     "slide_type": "fragment"
    }
   },
   "source": [
    "We dlopen'd None because when dealing with the normal C namespace we don't need to specify a library."
   ]
  },
  {
   "cell_type": "markdown",
   "metadata": {
    "slideshow": {
     "slide_type": "fragment"
    }
   },
   "source": [
    "Now we'll create a new 50 byte character array and invoke sprintf with some arguments to populate it."
   ]
  },
  {
   "cell_type": "code",
   "execution_count": 4,
   "metadata": {
    "collapsed": false,
    "slideshow": {
     "slide_type": "fragment"
    }
   },
   "outputs": [
    {
     "name": "stdout",
     "output_type": "stream",
     "text": [
      "Hello tech talk!\n"
     ]
    }
   ],
   "source": [
    "buf = ffi.new(\"char[50]\")\n",
    "data = ffi.new(\"char[]\", \"tech talk\")\n",
    "res = lib.sprintf(buf, \"Hello %s!\", data)\n",
    "print(ffi.buffer(buf, res)[:])"
   ]
  },
  {
   "cell_type": "markdown",
   "metadata": {
    "slideshow": {
     "slide_type": "slide"
    }
   },
   "source": [
    "\"Well that was a boring and obviously contrived example\", says the audience while sneering at the gallant presenter."
   ]
  },
  {
   "cell_type": "markdown",
   "metadata": {
    "slideshow": {
     "slide_type": "fragment"
    }
   },
   "source": [
    "Don't be so jaded, that was pretty cool. We wrote a few lines of Python and managed to invoke a C function and get its return value!"
   ]
  },
  {
   "cell_type": "markdown",
   "metadata": {
    "slideshow": {
     "slide_type": "slide"
    }
   },
   "source": [
    "### Still boring and contrived"
   ]
  },
  {
   "cell_type": "code",
   "execution_count": 8,
   "metadata": {
    "collapsed": false,
    "slideshow": {
     "slide_type": "fragment"
    }
   },
   "outputs": [
    {
     "name": "stdout",
     "output_type": "stream",
     "text": [
      "hello\n"
     ]
    }
   ],
   "source": [
    "ffi = cffi.FFI()\n",
    "ffi.cdef(\"char *hello_world(void);\")\n",
    "lib = ffi.verify(\"\"\"\n",
    "char * hello_world(void) { \n",
    "    char *hello = (char *)malloc(6);\n",
    "    strcpy(hello, \"hello\");\n",
    "    return hello;\n",
    "}\n",
    "\"\"\")\n",
    "print(ffi.string(lib.hello_world()))"
   ]
  },
  {
   "cell_type": "markdown",
   "metadata": {},
   "source": [
    "Rather than ```dlopen``` an existing library, we define a function and an implementation using ```verify``` and then call it. You can use this to write self-contained C like the example above or write code that interfaces with other C libraries to simplify the interface to the Python layer. This particular example leaks memory (this will be a recurring theme)."
   ]
  },
  {
   "cell_type": "markdown",
   "metadata": {
    "slideshow": {
     "slide_type": "slide"
    }
   },
   "source": [
    "### Something more useful"
   ]
  },
  {
   "cell_type": "markdown",
   "metadata": {
    "slideshow": {
     "slide_type": "fragment"
    }
   },
   "source": [
    "Let's encrypt something!"
   ]
  },
  {
   "cell_type": "code",
   "execution_count": 5,
   "metadata": {
    "collapsed": false,
    "slideshow": {
     "slide_type": "slide"
    }
   },
   "outputs": [],
   "source": [
    "ffi = cffi.FFI()\n",
    "ffi.cdef(\"\"\"\n",
    "typedef ... ENGINE;\n",
    "typedef ... EVP_CIPHER;\n",
    "typedef ... EVP_CIPHER_CTX;\n",
    "int EVP_CipherInit_ex(EVP_CIPHER_CTX *, const EVP_CIPHER *, ENGINE *,\n",
    "                      const unsigned char *, const unsigned char *, int);\n",
    "int EVP_CipherUpdate(EVP_CIPHER_CTX *, unsigned char *, int *,\n",
    "                     const unsigned char *, int);\n",
    "int EVP_CipherFinal_ex(EVP_CIPHER_CTX *, unsigned char *, int *);\n",
    "int EVP_CIPHER_CTX_cleanup(EVP_CIPHER_CTX *);\n",
    "void EVP_CIPHER_CTX_init(EVP_CIPHER_CTX *);\n",
    "EVP_CIPHER_CTX *EVP_CIPHER_CTX_new(void);\n",
    "void EVP_CIPHER_CTX_free(EVP_CIPHER_CTX *);\n",
    "const EVP_CIPHER *EVP_get_cipherbyname(const char *);\n",
    "\"\"\")\n",
    "lib = ffi.dlopen(\"libcrypto\")"
   ]
  },
  {
   "cell_type": "markdown",
   "metadata": {
    "slideshow": {
     "slide_type": "fragment"
    }
   },
   "source": [
    "What did we just do?!\n",
    "\n",
    "* Set up some opaque typedefs\n",
    "* Defined a bunch of functions\n",
    "* Opened the libcrypto library (this can also be done with an absolute path)"
   ]
  },
  {
   "cell_type": "markdown",
   "metadata": {
    "slideshow": {
     "slide_type": "slide"
    }
   },
   "source": [
    "Warning, you are entering a C zone. Memory leaks and caveats abound. Don't use this code! We are going to..."
   ]
  },
  {
   "cell_type": "markdown",
   "metadata": {
    "slideshow": {
     "slide_type": "fragment"
    }
   },
   "source": [
    "* Create a key\n",
    "* Create an initialization vector\n",
    "* assign some plaintext data (modulo 16 natch)\n",
    "* Get an EVP_CIPHER \\* using a string OpenSSL understands (cffi can automatically convert python strings for use with char \\* arguments)\n",
    "* Initialize a context and set up the encryption operation\n",
    "* Create a buffer and an int \\* for the function to store its output\n",
    "* fetch the output"
   ]
  },
  {
   "cell_type": "code",
   "execution_count": 6,
   "metadata": {
    "collapsed": false,
    "slideshow": {
     "slide_type": "subslide"
    }
   },
   "outputs": [
    {
     "name": "stdout",
     "output_type": "stream",
     "text": [
      "6a13574342d15d1d42c761951f1b44959cf4b238c8a34a1315fcec92a1c6d4d56250cfa6acf27abc30a7c8ca1f206c54\n"
     ]
    }
   ],
   "source": [
    "import binascii\n",
    "import os\n",
    "key = os.urandom(32)\n",
    "iv = os.urandom(16)\n",
    "pt = \"my data is so very confidential.\"\n",
    "evp_cipher = lib.EVP_get_cipherbyname(\"aes-256-cbc\")\n",
    "assert evp_cipher != ffi.NULL\n",
    "ctx = lib.EVP_CIPHER_CTX_new()\n",
    "assert ctx != ffi.NULL\n",
    "lib.EVP_CIPHER_CTX_init(ctx)\n",
    "res = lib.EVP_CipherInit_ex(ctx, evp_cipher, ffi.NULL, ffi.NULL, ffi.NULL, 1)\n",
    "assert res != 0\n",
    "res = lib.EVP_CipherInit_ex(ctx, ffi.NULL, ffi.NULL, key, iv, 1)\n",
    "assert res != 0\n",
    "buf = ffi.new(\"unsigned char[]\", 32)\n",
    "outlen = ffi.new(\"int *\")\n",
    "res = lib.EVP_CipherUpdate(ctx, buf, outlen, pt, len(pt))\n",
    "assert res != 0\n",
    "ct = ffi.buffer(buf)[:outlen[0]]\n",
    "res = lib.EVP_CipherFinal_ex(ctx, buf, outlen)\n",
    "assert res != 0\n",
    "ct += ffi.buffer(buf)[:outlen[0]]\n",
    "print(binascii.hexlify(ct))"
   ]
  },
  {
   "cell_type": "markdown",
   "metadata": {
    "slideshow": {
     "slide_type": "slide"
    }
   },
   "source": [
    "And now, decryption..."
   ]
  },
  {
   "cell_type": "code",
   "execution_count": 7,
   "metadata": {
    "collapsed": false,
    "slideshow": {
     "slide_type": "fragment"
    }
   },
   "outputs": [
    {
     "name": "stdout",
     "output_type": "stream",
     "text": [
      "my data is so very confidential.\n"
     ]
    }
   ],
   "source": [
    "ctx = lib.EVP_CIPHER_CTX_new()\n",
    "assert ctx != ffi.NULL\n",
    "lib.EVP_CIPHER_CTX_init(ctx)\n",
    "res = lib.EVP_CipherInit_ex(ctx, evp_cipher, ffi.NULL, ffi.NULL, ffi.NULL, 0)\n",
    "assert res != 0\n",
    "res = lib.EVP_CipherInit_ex(ctx, ffi.NULL, ffi.NULL, key, iv, 0)\n",
    "assert res != 0\n",
    "buf = ffi.new(\"unsigned char[]\", 32)\n",
    "outlen = ffi.new(\"int *\")\n",
    "res = lib.EVP_CipherUpdate(ctx, buf, outlen, ct, len(ct))\n",
    "decrypted = ffi.buffer(buf)[:outlen[0]]\n",
    "res = lib.EVP_CipherFinal_ex(ctx, buf, outlen)\n",
    "decrypted += ffi.buffer(buf)[:outlen[0]]\n",
    "print(decrypted)"
   ]
  },
  {
   "cell_type": "markdown",
   "metadata": {
    "slideshow": {
     "slide_type": "slide"
    }
   },
   "source": [
    "### Mission Accomplished"
   ]
  },
  {
   "cell_type": "markdown",
   "metadata": {
    "slideshow": {
     "slide_type": "fragment"
    }
   },
   "source": [
    "Except for those pesky memory issues...\n",
    "\n",
    "cffi lets you do C things. That includes all the good and all of the bad. What did we do wrong in the previous example?"
   ]
  },
  {
   "cell_type": "markdown",
   "metadata": {
    "slideshow": {
     "slide_type": "fragment"
    }
   },
   "source": [
    "* We leaked memory with the EVP_CIPHER_CTX \\* we created using EVP_CIPHER_CTX_new.\n",
    "* We didn't check the return value on some of our decryption calls\n",
    "* We created a return buffer of exactly 32 bytes. This is safe in this particular case, but knowing the absolute maximum amount of data that can be written back to a buffer is critically important in C"
   ]
  },
  {
   "cell_type": "markdown",
   "metadata": {
    "slideshow": {
     "slide_type": "slide"
    }
   },
   "source": [
    "### Crashing!"
   ]
  },
  {
   "cell_type": "code",
   "execution_count": 8,
   "metadata": {
    "collapsed": false,
    "slideshow": {
     "slide_type": "fragment"
    }
   },
   "outputs": [
    {
     "data": {
      "text/plain": [
       "45"
      ]
     },
     "execution_count": 8,
     "metadata": {},
     "output_type": "execute_result"
    }
   ],
   "source": [
    "ffi = cffi.FFI()\n",
    "ffi.cdef(\"int sprintf(char *, const char *, ...);\")\n",
    "lib = ffi.dlopen(None)\n",
    "buf = ffi.new(\"char[5]\")\n",
    "lib.sprintf(buf, \"this is quite a bit longer than 5 bytes oh no\")\n",
    "# buffer overflow!"
   ]
  },
  {
   "cell_type": "markdown",
   "metadata": {
    "slideshow": {
     "slide_type": "fragment"
    }
   },
   "source": [
    "Remember how I said ```sprintf``` was dangerous? It doesn't know or care how many bytes I actually allocated to the buffer I passed it. It will just blithely write the entire string to that char \\* until it's done. This means that while we allocated 5 bytes, in reality it wrote 45 bytes...40 of which were into some part of memory it didn't own. Whoops."
   ]
  },
  {
   "cell_type": "code",
   "execution_count": null,
   "metadata": {
    "collapsed": true,
    "slideshow": {
     "slide_type": "slide"
    }
   },
   "outputs": [],
   "source": [
    "ffi = cffi.FFI()\n",
    "ffi.cdef(\"\"\"\n",
    "EVP_CIPHER_CTX *EVP_CIPHER_CTX_new(void);\n",
    "void EVP_CIPHER_CTX_free(EVP_CIPHER_CTX *);\n",
    "\"\"\")\n",
    "lib = ffi.dlopen(\"libcrypto\")\n",
    "ctx = lib.EVP_CIPHER_CTX_new()\n",
    "ctx = ffi.gc(ctx, lib.EVP_CIPHER_CTX_free)\n",
    "# do something with the ctx\n",
    "lib.EVP_CIPHER_CTX_free(ctx)"
   ]
  },
  {
   "cell_type": "markdown",
   "metadata": {
    "slideshow": {
     "slide_type": "fragment"
    }
   },
   "source": [
    "In this case you'll perform an action and at some later date (when the gc chooses to run) it will crash because you're freeing memory you no longer own."
   ]
  },
  {
   "cell_type": "code",
   "execution_count": null,
   "metadata": {
    "collapsed": true,
    "slideshow": {
     "slide_type": "slide"
    }
   },
   "outputs": [],
   "source": [
    "ffi = cffi.FFI()\n",
    "ffi.cdef(\"\"\"\n",
    "typedef struct {\n",
    "    int *value;\n",
    "} THING;\n",
    "int get_thing_value(THING *);\n",
    "\"\"\")\n",
    "lib = ffi.verify(\"\"\"\n",
    "typedef struct {\n",
    "    int *value;\n",
    "} THING;\n",
    "int get_thing_value(THING *thing) {\n",
    "    return *thing->value;\n",
    "}\n",
    "\"\"\")\n",
    "def create_thing():\n",
    "    thing = ffi.new(\"THING *\")\n",
    "    value = ffi.new(\"int *\", 1001)\n",
    "    thing.value = value\n",
    "    return thing\n",
    "\n",
    "thing = create_thing()\n",
    "print(lib.get_thing_value(thing))"
   ]
  },
  {
   "cell_type": "markdown",
   "metadata": {
    "slideshow": {
     "slide_type": "fragment"
    }
   },
   "source": [
    "So...what will that code do?"
   ]
  },
  {
   "cell_type": "markdown",
   "metadata": {
    "slideshow": {
     "slide_type": "fragment"
    }
   },
   "source": [
    "If you guessed \"maybe work, maybe give garbage data\" you win!"
   ]
  },
  {
   "cell_type": "markdown",
   "metadata": {
    "slideshow": {
     "slide_type": "slide"
    }
   },
   "source": [
    "### Other Cool Things"
   ]
  },
  {
   "cell_type": "markdown",
   "metadata": {
    "slideshow": {
     "slide_type": "fragment"
    }
   },
   "source": [
    "* Invoke C callbacks with functions written in Python\n",
    "* Define opaque or fully specified structs and any amount in between\n",
    "* Treat C arrays as iterables with proper bounds checking"
   ]
  },
  {
   "cell_type": "markdown",
   "metadata": {
    "slideshow": {
     "slide_type": "fragment"
    }
   },
   "source": [
    "Remember at the beginning of this interminable talk when I said \"C calling convention\"? Other languages can compile libraries that use that convention. Languages like Rust!"
   ]
  },
  {
   "cell_type": "markdown",
   "metadata": {
    "slideshow": {
     "slide_type": "slide"
    }
   },
   "source": [
    "```rust\n",
    "#![crate_type = \"dylib\"]\n",
    "\n",
    "\n",
    "#[no_mangle]\n",
    "pub extern fn square(value: i32) -> i32 {\n",
    "        value * value\n",
    "}\n",
    "```"
   ]
  },
  {
   "cell_type": "markdown",
   "metadata": {
    "slideshow": {
     "slide_type": "fragment"
    }
   },
   "source": [
    "rustc square.rs"
   ]
  },
  {
   "cell_type": "code",
   "execution_count": 3,
   "metadata": {
    "collapsed": false,
    "slideshow": {
     "slide_type": "fragment"
    }
   },
   "outputs": [
    {
     "data": {
      "text/plain": [
       "9"
      ]
     },
     "execution_count": 3,
     "metadata": {},
     "output_type": "execute_result"
    }
   ],
   "source": [
    "ffi = cffi.FFI()\n",
    "ffi.cdef(\"int square(int);\")\n",
    "lib = ffi.dlopen(\"libsquare.dylib\")\n",
    "lib.square(3)"
   ]
  },
  {
   "cell_type": "markdown",
   "metadata": {
    "slideshow": {
     "slide_type": "slide"
    }
   },
   "source": [
    "### cffi challenges"
   ]
  },
  {
   "cell_type": "markdown",
   "metadata": {
    "slideshow": {
     "slide_type": "fragment"
    }
   },
   "source": [
    "* cffi likes to compile on import. That's great for development, terrible for shipping packages. Weird workarounds are required (see: setup.py in pyca/cryptography)\n",
    "* The nature of the way cffi does things means you have runtime dependencies on cffi, pycparser, and a slow import (~0.7s on a modern Core i7 for pyca/cryptography, tens of seconds on a Raspberry Pi...ugh)"
   ]
  },
  {
   "cell_type": "markdown",
   "metadata": {
    "slideshow": {
     "slide_type": "subslide"
    }
   },
   "source": [
    "But help is on the way. cffi 1.0 is designed to have a pre-compile stage. This will remove the runtime dependency on cffi and drastically speed up import.\n",
    "\n",
    "Coming Real Soon Now™ (1.0dev2 currently in PyPI if you're feeling adventurous)"
   ]
  },
  {
   "cell_type": "markdown",
   "metadata": {
    "slideshow": {
     "slide_type": "slide"
    }
   },
   "source": [
    "### finally..."
   ]
  },
  {
   "cell_type": "markdown",
   "metadata": {
    "slideshow": {
     "slide_type": "fragment"
    }
   },
   "source": [
    "When writing cffi code follow these simple rules:\n",
    "\n",
    "* Don't do it unless you legitimately need it\n",
    "* Check every return code and verify every memory allocation/release (you can use ```ffi.gc``` to register free functions to be called when the Python variable goes out of scope but that can lead to use after free bugs so be careful!)\n",
    "* Assume everything can and will fail"
   ]
  },
  {
   "cell_type": "markdown",
   "metadata": {
    "slideshow": {
     "slide_type": "slide"
    }
   },
   "source": [
    "### @reaperhulk on Freenode, Twitter, et al\n",
    "\n",
    "Sometimes I write this thing:\n",
    "https://github.com/pyca/cryptography"
   ]
  }
 ],
 "metadata": {
  "celltoolbar": "Slideshow",
  "kernelspec": {
   "display_name": "Python 2",
   "language": "python",
   "name": "python2"
  },
  "language_info": {
   "codemirror_mode": {
    "name": "ipython",
    "version": 2
   },
   "file_extension": ".py",
   "mimetype": "text/x-python",
   "name": "python",
   "nbconvert_exporter": "python",
   "pygments_lexer": "ipython2",
   "version": "2.7.9"
  }
 },
 "nbformat": 4,
 "nbformat_minor": 0
}
